{
 "cells": [
  {
   "cell_type": "code",
   "execution_count": 1,
   "metadata": {},
   "outputs": [
    {
     "data": {
      "text/plain": [
       "False"
      ]
     },
     "execution_count": 1,
     "metadata": {},
     "output_type": "execute_result"
    }
   ],
   "source": [
    "5 < 3"
   ]
  },
  {
   "cell_type": "code",
   "execution_count": 2,
   "metadata": {},
   "outputs": [
    {
     "data": {
      "text/plain": [
       "True"
      ]
     },
     "execution_count": 2,
     "metadata": {},
     "output_type": "execute_result"
    }
   ],
   "source": [
    "5 == 5"
   ]
  },
  {
   "cell_type": "code",
   "execution_count": 4,
   "metadata": {},
   "outputs": [
    {
     "name": "stdout",
     "output_type": "stream",
     "text": [
      "應用程式結束\n"
     ]
    }
   ],
   "source": [
    "#單項選擇\n",
    "age =17\n",
    "if age >= 18:\n",
    "    print(\"可以投票\")\n",
    "    print(\"可以考駕照\")\n",
    "print(\"應用程式結束\")"
   ]
  },
  {
   "cell_type": "code",
   "execution_count": 5,
   "metadata": {},
   "outputs": [
    {
     "name": "stdout",
     "output_type": "stream",
     "text": [
      "不可以投票\n",
      "不可以考駕照\n",
      "應用程式結束\n"
     ]
    }
   ],
   "source": [
    "#雙項選擇\n",
    "age =17\n",
    "if age >= 18:\n",
    "    print(\"可以投票\")\n",
    "    print(\"可以考駕照\")\n",
    "else:\n",
    "    print(\"不可以投票\")\n",
    "    print(\"不可以考駕照\")\n",
    "\n",
    "print(\"應用程式結束\")       #一定定執行"
   ]
  },
  {
   "cell_type": "code",
   "execution_count": 6,
   "metadata": {},
   "outputs": [
    {
     "name": "stdout",
     "output_type": "stream",
     "text": [
      "可以投票\n",
      "可以考駕照\n",
      "應用程式結束\n"
     ]
    }
   ],
   "source": [
    "#雙項選擇\n",
    "age =19\n",
    "if age >= 18:\n",
    "    print(\"可以投票\")\n",
    "    print(\"可以考駕照\")\n",
    "else:\n",
    "    print(\"不可以投票\")\n",
    "    print(\"不可以考駕照\")\n",
    "\n",
    "print(\"應用程式結束\")       #一定定執行"
   ]
  },
  {
   "cell_type": "code",
   "execution_count": 14,
   "metadata": {},
   "outputs": [
    {
     "name": "stdout",
     "output_type": "stream",
     "text": [
      "y\n",
      "目前學生的分數:262.5\n"
     ]
    }
   ],
   "source": [
    "scores = int(input(\"請輸入學生分數(最高300):\"))\n",
    "is_add = input(\"學生是否符合加分條件?(y/n)\")\n",
    "print(is_add)\n",
    "\n",
    "if is_add == \"y\" :\n",
    "    scores = scores * 1.05\n",
    "\n",
    "print(f\"目前學生的分數:{scores}\")"
   ]
  },
  {
   "cell_type": "code",
   "execution_count": 23,
   "metadata": {},
   "outputs": [
    {
     "name": "stdout",
     "output_type": "stream",
     "text": [
      "y\n",
      "目前學生的分數:262 \n"
     ]
    }
   ],
   "source": [
    "scores = int(input(\"請輸入學生分數(最高300):\"))\n",
    "is_add = input(\"學生是否符合加分條件?(y/n)\")\n",
    "print(is_add)\n",
    "\n",
    "if is_add == \"y\" :\n",
    "    scores *= 1.05\n",
    "\n",
    "print(f\"目前學生的分數:{round(scores)} \")"
   ]
  },
  {
   "cell_type": "code",
   "execution_count": 26,
   "metadata": {},
   "outputs": [
    {
     "name": "stdout",
     "output_type": "stream",
     "text": [
      "y\n",
      "目前學生的分數:300 \n"
     ]
    }
   ],
   "source": [
    "#巢狀判斷\n",
    "scores = int(input(\"請輸入學生分數(最高300):\"))\n",
    "is_add = input(\"學生是否符合加分條件?(y/n)\")\n",
    "print(is_add)\n",
    "\n",
    "if is_add == \"y\" :\n",
    "    scores *= 1.05\n",
    "    if scores > 300:\n",
    "        scores = 300\n",
    "\n",
    "print(f\"目前學生的分數:{round(scores)} \")"
   ]
  },
  {
   "cell_type": "code",
   "execution_count": 28,
   "metadata": {},
   "outputs": [
    {
     "name": "stdout",
     "output_type": "stream",
     "text": [
      "y\n",
      "目前學生的分數:300 \n"
     ]
    }
   ],
   "source": [
    "#雙向、單向及巢狀判斷\n",
    "scores = int(input(\"請輸入學生分數(最高300):\"))\n",
    "if scores <= 300:\n",
    "    is_add = input(\"學生是否符合加分條件?(y/n)\")\n",
    "    print(is_add)\n",
    "\n",
    "    if is_add == \"y\" :\n",
    "        scores *= 1.05\n",
    "        if scores > 300:\n",
    "            scores = 300\n",
    "\n",
    "    print(f\"目前學生的分數:{round(scores)} \")\n",
    "else:\n",
    "    print(\"輸入分數超過300\")"
   ]
  },
  {
   "cell_type": "code",
   "execution_count": 29,
   "metadata": {},
   "outputs": [
    {
     "ename": "ValueError",
     "evalue": "invalid literal for int() with base 10: '30a'",
     "output_type": "error",
     "traceback": [
      "\u001b[0;31m---------------------------------------------------------------------------\u001b[0m",
      "\u001b[0;31mValueError\u001b[0m                                Traceback (most recent call last)",
      "Cell \u001b[0;32mIn[29], line 2\u001b[0m\n\u001b[1;32m      1\u001b[0m \u001b[38;5;66;03m#雙向、單向及巢狀判斷\u001b[39;00m\n\u001b[0;32m----> 2\u001b[0m scores \u001b[38;5;241m=\u001b[39m \u001b[38;5;28;43mint\u001b[39;49m\u001b[43m(\u001b[49m\u001b[38;5;28;43minput\u001b[39;49m\u001b[43m(\u001b[49m\u001b[38;5;124;43m\"\u001b[39;49m\u001b[38;5;124;43m請輸入學生分數(最高300):\u001b[39;49m\u001b[38;5;124;43m\"\u001b[39;49m\u001b[43m)\u001b[49m\u001b[43m)\u001b[49m\n\u001b[1;32m      3\u001b[0m \u001b[38;5;28;01mif\u001b[39;00m scores \u001b[38;5;241m<\u001b[39m\u001b[38;5;241m=\u001b[39m \u001b[38;5;241m300\u001b[39m:\n\u001b[1;32m      4\u001b[0m     is_add \u001b[38;5;241m=\u001b[39m \u001b[38;5;28minput\u001b[39m(\u001b[38;5;124m\"\u001b[39m\u001b[38;5;124m學生是否符合加分條件?(y/n)\u001b[39m\u001b[38;5;124m\"\u001b[39m)\n",
      "\u001b[0;31mValueError\u001b[0m: invalid literal for int() with base 10: '30a'"
     ]
    }
   ],
   "source": [
    "#雙向、單向及巢狀判斷\n",
    "scores = int(input(\"請輸入學生分數(最高300):\"))\n",
    "if scores <= 300:\n",
    "    is_add = input(\"學生是否符合加分條件?(y/n)\")\n",
    "    print(is_add)\n",
    "\n",
    "    if is_add == \"y\" :\n",
    "        scores *= 1.05\n",
    "        if scores > 300:\n",
    "            scores = 300\n",
    "\n",
    "    print(f\"目前學生的分數:{round(scores)} \")\n",
    "else:\n",
    "    print(\"輸入分數超過300\")"
   ]
  },
  {
   "cell_type": "code",
   "execution_count": 32,
   "metadata": {},
   "outputs": [
    {
     "name": "stdout",
     "output_type": "stream",
     "text": [
      "n\n",
      "目前學生的分數:260 \n",
      "應用程式結束\n"
     ]
    }
   ],
   "source": [
    "#try    except     else\n",
    "try:    #判斷\n",
    "    scores = int(input(\"請輸入學生分數(最高300):\"))\n",
    "except:     #錯誤\n",
    "    print(\"格式錯誤\")\n",
    "else:       #正確\n",
    "    if scores <= 300:\n",
    "        is_add = input(\"學生是否符合加分條件?(y/n)\")\n",
    "        print(is_add)\n",
    "\n",
    "        if is_add == \"y\" :\n",
    "            scores *= 1.05\n",
    "            if scores > 300:\n",
    "                scores = 300\n",
    "\n",
    "        print(f\"目前學生的分數:{round(scores)} \")\n",
    "    else:\n",
    "        print(\"輸入分數超過300\")\n",
    "print(\"應用程式結束\")"
   ]
  },
  {
   "cell_type": "code",
   "execution_count": 34,
   "metadata": {},
   "outputs": [
    {
     "name": "stdout",
     "output_type": "stream",
     "text": [
      "分數60至79\n"
     ]
    }
   ],
   "source": [
    "#多向選擇:if elif else\n",
    "score = 75\n",
    "if score >= 60:\n",
    "    if score < 80:\n",
    "        print(\"分數60至79\")\n",
    "\n"
   ]
  },
  {
   "cell_type": "code",
   "execution_count": 33,
   "metadata": {},
   "outputs": [
    {
     "name": "stdout",
     "output_type": "stream",
     "text": [
      "分數大於等於80\n"
     ]
    }
   ],
   "source": [
    "#多向選擇:if elif else\n",
    "score = 89\n",
    "if score < 60:\n",
    "    print(\"分數小於60\")\n",
    "if score >= 80:\n",
    "        print(\"分數大於等於80\")"
   ]
  },
  {
   "cell_type": "code",
   "execution_count": 36,
   "metadata": {},
   "outputs": [
    {
     "name": "stdout",
     "output_type": "stream",
     "text": [
      "分數60至79\n"
     ]
    }
   ],
   "source": [
    "#2元運算子\n",
    "score = 75\n",
    "if score >= 60 and score < 80:\n",
    "    print(\"分數60至79\")"
   ]
  },
  {
   "cell_type": "code",
   "execution_count": 37,
   "metadata": {},
   "outputs": [
    {
     "name": "stdout",
     "output_type": "stream",
     "text": [
      "分數小於60或大於80\n"
     ]
    }
   ],
   "source": [
    "#2元運算子\n",
    "score = 89\n",
    "if score < 60 or score >= 80:\n",
    "    print(\"分數小於60或大於等於80\")"
   ]
  },
  {
   "cell_type": "code",
   "execution_count": 38,
   "metadata": {},
   "outputs": [
    {
     "name": "stdout",
     "output_type": "stream",
     "text": [
      "輸入分數超過300或小於0\n",
      "應用程式結束\n"
     ]
    }
   ],
   "source": [
    "#多項判斷\n",
    "try:    #判斷\n",
    "    scores = int(input(\"請輸入學生分數(最高300):\"))\n",
    "except:     #錯誤\n",
    "    print(\"格式錯誤\")\n",
    "else:       #正確\n",
    "    if not(scores <= 300 and scores >= 0):\n",
    "        print(\"輸入分數超過300或小於0\")\n",
    "    else:\n",
    "        is_add = input(\"學生是否符合加分條件?(y/n)\")\n",
    "        print(is_add)\n",
    "\n",
    "        if is_add == \"y\" :\n",
    "            scores *= 1.05\n",
    "            if scores > 300:\n",
    "                scores = 300\n",
    "\n",
    "        print(f\"目前學生的分數:{round(scores)} \")\n",
    "        \n",
    "print(\"應用程式結束\")"
   ]
  },
  {
   "cell_type": "code",
   "execution_count": null,
   "metadata": {},
   "outputs": [],
   "source": []
  }
 ],
 "metadata": {
  "kernelspec": {
   "display_name": "Python 3",
   "language": "python",
   "name": "python3"
  },
  "language_info": {
   "codemirror_mode": {
    "name": "ipython",
    "version": 3
   },
   "file_extension": ".py",
   "mimetype": "text/x-python",
   "name": "python",
   "nbconvert_exporter": "python",
   "pygments_lexer": "ipython3",
   "version": "3.10.14"
  }
 },
 "nbformat": 4,
 "nbformat_minor": 2
}
