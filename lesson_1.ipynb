{
 "cells": [
  {
   "cell_type": "code",
   "execution_count": null,
   "metadata": {},
   "outputs": [],
   "source": [
    "print(\"Hello World!\")"
   ]
  },
  {
   "cell_type": "code",
   "execution_count": 1,
   "metadata": {},
   "outputs": [
    {
     "name": "stdout",
     "output_type": "stream",
     "text": [
      "Note: you may need to restart the kernel to use updated packages.\n"
     ]
    }
   ],
   "source": [
    "pip freeze > requirements.txt"
   ]
  },
  {
   "cell_type": "code",
   "execution_count": 2,
   "metadata": {},
   "outputs": [
    {
     "name": "stdout",
     "output_type": "stream",
     "text": [
      "['asttokens', 'comm', 'debugpy', 'decorator', 'exceptiongroup', 'executing', 'ipykernel', 'ipython', 'jedi', 'jupyter-client', 'jupyter-core', 'matplotlib-inline', 'nest-asyncio', 'packaging', 'parso', 'pexpect', 'pip', 'platformdirs', 'prompt-toolkit', 'psutil', 'ptyprocess', 'pure-eval', 'pygments', 'python-dateutil', 'pyzmq', 'six', 'stack-data', 'tornado', 'traitlets', 'typing-extensions', 'wcwidth', 'GitPython', 'gitdb', 'setuptools', 'smmap', 'wheel']\n"
     ]
    },
    {
     "name": "stderr",
     "output_type": "stream",
     "text": [
      "/tmp/ipykernel_995/1868893978.py:1: DeprecationWarning: pkg_resources is deprecated as an API. See https://setuptools.pypa.io/en/latest/pkg_resources.html\n",
      "  import pkg_resources\n"
     ]
    }
   ],
   "source": [
    "import pkg_resources\n",
    "\n",
    "def get_installed_packages():\n",
    "    packages = []\n",
    "    for package in pkg_resources.working_set:\n",
    "        packages.append(package.project_name)\n",
    "    return packages\n",
    "\n",
    "installed_packages = get_installed_packages()\n",
    "print(installed_packages)\n"
   ]
  }
 ],
 "metadata": {
  "kernelspec": {
   "display_name": "Python 3",
   "language": "python",
   "name": "python3"
  },
  "language_info": {
   "codemirror_mode": {
    "name": "ipython",
    "version": 3
   },
   "file_extension": ".py",
   "mimetype": "text/x-python",
   "name": "python",
   "nbconvert_exporter": "python",
   "pygments_lexer": "ipython3",
   "version": "3.10.14"
  }
 },
 "nbformat": 4,
 "nbformat_minor": 2
}
