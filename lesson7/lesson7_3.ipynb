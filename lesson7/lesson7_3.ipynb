{
 "cells": [
  {
   "cell_type": "code",
   "execution_count": 4,
   "metadata": {},
   "outputs": [
    {
     "data": {
      "text/plain": [
       "'林水忠'"
      ]
     },
     "execution_count": 4,
     "metadata": {},
     "output_type": "execute_result"
    }
   ],
   "source": [
    "class Person():\n",
    "    def __init__(self):\n",
    "        self.name = '林水忠'\n",
    "\n",
    "p1 = Person()\n",
    "type(p1)\n",
    "p1.name\n",
    "\n",
    "p2=Person()\n",
    "p2.name"
   ]
  },
  {
   "cell_type": "code",
   "execution_count": 6,
   "metadata": {},
   "outputs": [
    {
     "name": "stdout",
     "output_type": "stream",
     "text": [
      "林水忠\n",
      "abc\n"
     ]
    }
   ],
   "source": [
    "class Person():\n",
    "    def __init__(self,n):   #自訂初始化\n",
    "        self.name = n   #建立attribute\n",
    "\n",
    "p1 = Person('林水忠')\n",
    "type(p1)\n",
    "p1.name\n",
    "\n",
    "p2=Person('abc')\n",
    "print(p1.name)\n",
    "print(p2.name)"
   ]
  },
  {
   "cell_type": "code",
   "execution_count": 7,
   "metadata": {},
   "outputs": [
    {
     "name": "stdout",
     "output_type": "stream",
     "text": [
      "<__main__.Person object at 0x7656ac3ed240>\n"
     ]
    }
   ],
   "source": [
    "print(p1)"
   ]
  },
  {
   "cell_type": "code",
   "execution_count": 8,
   "metadata": {},
   "outputs": [
    {
     "name": "stdout",
     "output_type": "stream",
     "text": [
      "林水忠\n",
      "abc\n",
      "我是Persnon的實體\n",
      "我是Persnon的實體\n"
     ]
    }
   ],
   "source": [
    "class Person():\n",
    "    def __init__(self,n):   #自訂初始化\n",
    "        self.name = n   #建立attribute\n",
    "\n",
    "    def __repr__(self):\n",
    "        return \"我是Persnon的實體\"\n",
    "\n",
    "p1 = Person('林水忠')\n",
    "type(p1)\n",
    "p1.name\n",
    "\n",
    "p2=Person('abc')\n",
    "print(p1.name)\n",
    "print(p2.name)\n",
    "print(p1)   #使用__repr__的部份\n",
    "print(p2)"
   ]
  }
 ],
 "metadata": {
  "kernelspec": {
   "display_name": "Python 3",
   "language": "python",
   "name": "python3"
  },
  "language_info": {
   "codemirror_mode": {
    "name": "ipython",
    "version": 3
   },
   "file_extension": ".py",
   "mimetype": "text/x-python",
   "name": "python",
   "nbconvert_exporter": "python",
   "pygments_lexer": "ipython3",
   "version": "3.10.14"
  }
 },
 "nbformat": 4,
 "nbformat_minor": 2
}
