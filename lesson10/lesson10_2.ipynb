{
 "cells": [
  {
   "cell_type": "code",
   "execution_count": 2,
   "metadata": {},
   "outputs": [],
   "source": [
    "from pydantic import BaseModel\n",
    "\n",
    "#繼承BaseModel\n",
    "#建立Person的class\n",
    "class Person(BaseModel):\n",
    "    first_name:str\n",
    "    last_name:str\n",
    "    age:int"
   ]
  },
  {
   "cell_type": "code",
   "execution_count": 3,
   "metadata": {},
   "outputs": [
    {
     "name": "stdout",
     "output_type": "stream",
     "text": [
      "John\n",
      "Smith\n",
      "42\n",
      "first_name='John' last_name='Smith' age=42\n"
     ]
    }
   ],
   "source": [
    "#實作p1得Person\n",
    "p1 = Person(first_name='John', last_name='Smith', age=42)\n",
    "print(p1.first_name)\n",
    "print(p1.last_name)\n",
    "print(p1.age)\n",
    "print(p1)"
   ]
  },
  {
   "cell_type": "code",
   "execution_count": 4,
   "metadata": {},
   "outputs": [
    {
     "data": {
      "text/plain": [
       "Person(first_name='John', last_name='Smith', age=42)"
      ]
     },
     "execution_count": 4,
     "metadata": {},
     "output_type": "execute_result"
    }
   ],
   "source": [
    "#自動字串 '42'轉換為 整數 42\n",
    "p2 = Person(first_name='John', last_name='Smith', age='42')\n",
    "p2"
   ]
  },
  {
   "cell_type": "code",
   "execution_count": 4,
   "metadata": {},
   "outputs": [
    {
     "name": "stdout",
     "output_type": "stream",
     "text": [
      "1 validation error for Person\n",
      "age\n",
      "  Input should be a valid integer, unable to parse string as an integer [type=int_parsing, input_value='42a', input_type=str]\n",
      "    For further information visit https://errors.pydantic.dev/2.7/v/int_parsing\n"
     ]
    }
   ],
   "source": [
    "#使用錯誤資料，自動驗證，使用try  except判斷\n",
    "try:\n",
    "    p3 = Person(first_name='John', last_name='Smith', age='42a')\n",
    "    print(p3)\n",
    "except Exception as e:\n",
    "    print(e)"
   ]
  },
  {
   "cell_type": "code",
   "execution_count": 6,
   "metadata": {},
   "outputs": [
    {
     "data": {
      "text/plain": [
       "Person(first_name='John', last_name='Smith', age=42)"
      ]
     },
     "execution_count": 6,
     "metadata": {},
     "output_type": "execute_result"
    }
   ],
   "source": [
    "#使用dict轉換為BaseModel，建立p4的Person\n",
    "#若為字串'42'時，也會自動轉換為整數 42 \n",
    "data:dict = {\n",
    "    \"first_name\": \"John\",\n",
    "    \"last_name\": \"Smith\",\n",
    "    \"age\":42,\n",
    "}\n",
    "\n",
    "p4 = Person.model_validate(data)\n",
    "p4\n"
   ]
  },
  {
   "cell_type": "code",
   "execution_count": 7,
   "metadata": {},
   "outputs": [
    {
     "data": {
      "text/plain": [
       "Person(first_name='John', last_name='Smith', age=42)"
      ]
     },
     "execution_count": 7,
     "metadata": {},
     "output_type": "execute_result"
    }
   ],
   "source": [
    "# 3個'代表內容為字串\n",
    "#將文字轉為BaseModel，建立p4的Person\n",
    "data_json:str = '''\n",
    "{\n",
    "    \"first_name\": \"John\",\n",
    "    \"last_name\": \"Smith\",\n",
    "    \"age\":42\n",
    "}\n",
    "'''\n",
    "\n",
    "#使用實體方法Person.model_validate_json將文字的json轉換為p5的P5的Person\n",
    "p5 = Person.model_validate_json(data_json)\n",
    "p5"
   ]
  },
  {
   "cell_type": "code",
   "execution_count": 8,
   "metadata": {},
   "outputs": [
    {
     "data": {
      "text/plain": [
       "Person(first_name='John', last_name=None, age=18)"
      ]
     },
     "execution_count": 8,
     "metadata": {},
     "output_type": "execute_result"
    }
   ],
   "source": [
    "#有預設值\n",
    "class Person(BaseModel):\n",
    "    first_name:str #require\n",
    "    last_name:str | None = None #optional\n",
    "    age:int = 18 #optional\n",
    "\n",
    "\n",
    "#建立data_json時，沒有設定的內容時，以預設值代入\n",
    "data_json:str = '''\n",
    "{\n",
    "    \"first_name\": \"John\"   \n",
    "}\n",
    "'''\n",
    "\n",
    "p6 = Person.model_validate_json(data_json)\n",
    "p6\n"
   ]
  },
  {
   "cell_type": "code",
   "execution_count": 9,
   "metadata": {},
   "outputs": [
    {
     "data": {
      "text/plain": [
       "Person(first_name='John', last_name='Smith', age=42, lucky_numbers=[1, 3, 5, 7, 9])"
      ]
     },
     "execution_count": 9,
     "metadata": {},
     "output_type": "execute_result"
    }
   ],
   "source": [
    "#定義field內有list資料，一樣可以解析\n",
    "class Person(BaseModel):\n",
    "    first_name:str \n",
    "    last_name:str | None = None \n",
    "    age:int = 18\n",
    "    lucky_numbers:list[int]\n",
    "\n",
    "data_json:str = '''\n",
    "{\n",
    "    \"first_name\": \"John\",\n",
    "    \"last_name\": \"Smith\",\n",
    "    \"age\":42,\n",
    "    \"lucky_numbers\":[1,3,5,7,9]\n",
    "}\n",
    "'''\n",
    "p7 = Person.model_validate_json(data_json)\n",
    "p7"
   ]
  },
  {
   "cell_type": "code",
   "execution_count": 12,
   "metadata": {},
   "outputs": [
    {
     "data": {
      "text/plain": [
       "Person(id_=100, first_name='John', last_name='Smith', age=42)"
      ]
     },
     "execution_count": 12,
     "metadata": {},
     "output_type": "execute_result"
    }
   ],
   "source": [
    "from pydantic import BaseModel,Field\n",
    "#資料內容有id(會有衝突)、空白 、全部大寫\n",
    "data:str = '''\n",
    "{\n",
    "    \"id\":100,\n",
    "    \"First Name\":\"John\",\n",
    "    \"LASTNAME\":\"Smith\",\n",
    "    \"age in years\": 42\n",
    "}\n",
    "'''\n",
    "\n",
    "#轉換資料\n",
    "#使用Field重新定義欄位名稱及別名id去抓資料內容的key\n",
    "#預設值使用default=18\n",
    "class Person(BaseModel):\n",
    "    id_:int = Field(alias=\"id\")\n",
    "    first_name:str = Field(alias='First Name')\n",
    "    last_name:str | None = Field(alias='LASTNAME',default=None)\n",
    "    age:int = Field(alias='age in years',default=18)\n",
    "\n",
    "p8 = Person.model_validate_json(data)\n",
    "p8"
   ]
  },
  {
   "cell_type": "code",
   "execution_count": 13,
   "metadata": {},
   "outputs": [
    {
     "name": "stdout",
     "output_type": "stream",
     "text": [
      "first_name='Arthur' last_name='Clarke' born=Born(place=Place(country='Lunar Colony', city='Central City'), date='2001-01-01')\n"
     ]
    },
    {
     "data": {
      "text/plain": [
       "'Lunar Colony'"
      ]
     },
     "execution_count": 13,
     "metadata": {},
     "output_type": "execute_result"
    }
   ],
   "source": [
    "#資料內容，巢狀結構\n",
    "data = '''\n",
    "{\n",
    "    \"firstName\": \"Arthur\",\n",
    "    \"lastName\": \"Clarke\",\n",
    "    \"born\":{\n",
    "        \"place\":{\n",
    "            \"country\":\"Lunar Colony\",\n",
    "            \"city\": \"Central City\"\n",
    "        },\n",
    "        \"date\":\"2001-01-01\"\n",
    "    }\n",
    "}\n",
    "'''\n",
    "\n",
    "#重新解析欄位，由最底層開始設定\n",
    "class Place(BaseModel):\n",
    "    country:str\n",
    "    city:str\n",
    "\n",
    "class Born(BaseModel):\n",
    "    place:Place\n",
    "    date:str\n",
    "\n",
    "class Person(BaseModel):\n",
    "    first_name:str = Field(alias='firstName')\n",
    "    last_name:str = Field(alias='lastName')\n",
    "    born:Born\n",
    "\n",
    "p9 = Person.model_validate_json(data)\n",
    "print(p9)\n",
    "p9.born.place.city\n",
    "p9.born.place.country"
   ]
  }
 ],
 "metadata": {
  "kernelspec": {
   "display_name": "Python 3",
   "language": "python",
   "name": "python3"
  },
  "language_info": {
   "codemirror_mode": {
    "name": "ipython",
    "version": 3
   },
   "file_extension": ".py",
   "mimetype": "text/x-python",
   "name": "python",
   "nbconvert_exporter": "python",
   "pygments_lexer": "ipython3",
   "version": "3.10.14"
  }
 },
 "nbformat": 4,
 "nbformat_minor": 2
}
