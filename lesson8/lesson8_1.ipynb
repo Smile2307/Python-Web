{
 "cells": [
  {
   "cell_type": "code",
   "execution_count": 10,
   "metadata": {},
   "outputs": [],
   "source": [
    "class Person():\n",
    "    #定義的參數\"n\"\n",
    "    def __init__(self,n:str):   #自訂初始化\n",
    "        self.name = n   #建立attribute\n",
    "\n",
    "    def __repr__(self):\n",
    "        return f\"我是Persnon的實體,我的名字是{self.name}\""
   ]
  },
  {
   "cell_type": "code",
   "execution_count": 3,
   "metadata": {},
   "outputs": [
    {
     "name": "stdout",
     "output_type": "stream",
     "text": [
      "林水忠\n",
      "我是Persnon的實體\n"
     ]
    }
   ],
   "source": [
    "p1 = Person(\"林水忠\")\n",
    "print(p1.name)\n",
    "print(p1)"
   ]
  },
  {
   "cell_type": "code",
   "execution_count": 4,
   "metadata": {},
   "outputs": [
    {
     "data": {
      "text/plain": [
       "'我的名字是name'"
      ]
     },
     "execution_count": 4,
     "metadata": {},
     "output_type": "execute_result"
    }
   ],
   "source": [
    "name = \"林水忠\"\n",
    "\"我的名字是name\""
   ]
  },
  {
   "cell_type": "code",
   "execution_count": 5,
   "metadata": {},
   "outputs": [
    {
     "data": {
      "text/plain": [
       "'我的名字是林水忠'"
      ]
     },
     "execution_count": 5,
     "metadata": {},
     "output_type": "execute_result"
    }
   ],
   "source": [
    "#字串插補\n",
    "name = \"林水忠\"\n",
    "f\"我的名字是{name}\""
   ]
  },
  {
   "cell_type": "code",
   "execution_count": 12,
   "metadata": {},
   "outputs": [
    {
     "name": "stdout",
     "output_type": "stream",
     "text": [
      "林水忠\n",
      "我是Persnon的實體,我的名字是林水忠\n"
     ]
    }
   ],
   "source": [
    "p1 = Person(\"林水忠\")\n",
    "\n",
    "print(p1.name)\n",
    "print(p1)"
   ]
  },
  {
   "cell_type": "code",
   "execution_count": 11,
   "metadata": {},
   "outputs": [
    {
     "name": "stdout",
     "output_type": "stream",
     "text": [
      "Lsc\n",
      "我是Persnon的實體,我的名字是Lsc\n"
     ]
    }
   ],
   "source": [
    "#呼叫的值\"Lsc\",叫 引數值\n",
    "p2 = Person(\"Lsc\")\n",
    "\n",
    "print(p2.name)\n",
    "print(p2)"
   ]
  },
  {
   "cell_type": "code",
   "execution_count": 26,
   "metadata": {},
   "outputs": [
    {
     "name": "stdout",
     "output_type": "stream",
     "text": [
      "林水忠\n",
      "96\n",
      "我是Persnon的實體,我的名字是林水忠\n"
     ]
    }
   ],
   "source": [
    "#繼承\n",
    "\n",
    "class Person():\n",
    "    #定義的參數\"n\"\n",
    "    def __init__(self,n:str):   #自訂初始化\n",
    "        self.name = n   #建立attribute\n",
    "\n",
    "    def __repr__(self):\n",
    "        return f\"我是Persnon的實體,我的名字是{self.name}\"\n",
    "    \n",
    "class Student(Person):\n",
    "    def __init__(self,name:str,scores:int):\n",
    "        super().__init__(name) #父類別\n",
    "        self.scores = scores\n",
    "\n",
    "\n",
    "s1=Student(\"林水忠\",96)\n",
    "print(s1.name)\n",
    "print(s1.scores)\n",
    "print(s1)"
   ]
  },
  {
   "cell_type": "code",
   "execution_count": 22,
   "metadata": {},
   "outputs": [
    {
     "name": "stdout",
     "output_type": "stream",
     "text": [
      "<class '__main__.Student'>\n",
      "徐國堂\n",
      "96\n"
     ]
    },
    {
     "data": {
      "text/plain": [
       "這是Person的實體,我的名字是徐國堂"
      ]
     },
     "execution_count": 22,
     "metadata": {},
     "output_type": "execute_result"
    }
   ],
   "source": [
    "\n",
    "class Person():\n",
    "    def __init__(self,n:str):\n",
    "        self.name = n\n",
    "    \n",
    "    def __repr__(self):\n",
    "        return f\"這是Person的實體,我的名字是{self.name}\" #字串插補\n",
    "    \n",
    "class Student(Person):\n",
    "    def __init__(self,name:str,scores:int):\n",
    "        super().__init__(name)\n",
    "        self.scores = scores\n",
    "\n",
    "s1 = Student(\"徐國堂\",96)\n",
    "print(type(s1))\n",
    "print(s1.name)\n",
    "print(s1.scores)\n",
    "s1\n"
   ]
  },
  {
   "cell_type": "code",
   "execution_count": 27,
   "metadata": {},
   "outputs": [
    {
     "name": "stdout",
     "output_type": "stream",
     "text": [
      "林水忠\n",
      "96\n",
      "我是Persnon的實體,我的名字是林水忠，分數:96\n"
     ]
    }
   ],
   "source": [
    "#繼承\n",
    "#子程式若未建 __repr__時，則會執行父類別的__repr__\n",
    "\n",
    "class Person():\n",
    "    #定義的參數\"n\"\n",
    "    def __init__(self,n:str):   #自訂初始化\n",
    "        self.name = n   #建立attribute\n",
    "\n",
    "    def __repr__(self):\n",
    "        return f\"我是Persnon的實體,我的名字是{self.name}\"\n",
    "    \n",
    "class Student(Person):\n",
    "    def __init__(self,name:str,scores:int):\n",
    "        super().__init__(name) #父類別\n",
    "        self.scores = scores\n",
    "    def __repr__(self):\n",
    "        return f\"我是Persnon的實體,我的名字是{self.name}，分數:{self.scores}\"\n",
    "\n",
    "s1=Student(\"林水忠\",96)\n",
    "print(s1.name)\n",
    "print(s1.scores)\n",
    "print(s1)"
   ]
  },
  {
   "cell_type": "code",
   "execution_count": 30,
   "metadata": {},
   "outputs": [
    {
     "name": "stdout",
     "output_type": "stream",
     "text": [
      "<class '__main__.Student'>\n",
      "林水忠\n",
      "96\n",
      "這是Student實體\n",
      "我的姓名是林水忠\n",
      "國文96\n",
      "英文100\n",
      "數學95\n",
      "\n",
      "這是Student實體\n",
      "我的姓名是林水忠\n",
      "國文100\n",
      "英文100\n",
      "數學100\n",
      "\n"
     ]
    }
   ],
   "source": [
    "#繼承\n",
    "#子程式若未建 __repr__時，則會執行父類別的__repr__\n",
    "\n",
    "class Person():\n",
    "    #定義的參數\"n\"\n",
    "    def __init__(self,n:str):   #自訂初始化\n",
    "        self.name = n   #建立attribute\n",
    "\n",
    "    def __repr__(self):\n",
    "        return f\"我是Persnon的實體,我的名字是{self.name}\"\n",
    "    \n",
    "class Student(Person):\n",
    "    def __init__(self,name:str,chinese:int,english:int,math:int):\n",
    "        super().__init__(name) #父類別\n",
    "        self.chinese = chinese\n",
    "        self.english = english\n",
    "        self.math = math\n",
    "\n",
    "\n",
    "    def __repr__(self):\n",
    "        message = \"\"\n",
    "        message += \"這是Student實體\\n\"\n",
    "        message += f\"我的姓名是{self.name}\\n\"\n",
    "        message += f\"國文{self.chinese}\\n\"\n",
    "        message += f\"英文{self.english}\\n\"\n",
    "        message += f\"數學{self.math}\\n\"\n",
    "        return message\n",
    "\n",
    "s1=Student(\"林水忠\",96,100,95)\n",
    "print(type(s1))\n",
    "print(s1.name)\n",
    "print(s1.chinese)\n",
    "print(s1)\n",
    "\n",
    "#設定值,attribuilt可讀可寫\n",
    "s1.chinese = 100\n",
    "s1.english = 100\n",
    "s1.math=100\n",
    "print(s1)"
   ]
  },
  {
   "cell_type": "code",
   "execution_count": 33,
   "metadata": {},
   "outputs": [
    {
     "name": "stdout",
     "output_type": "stream",
     "text": [
      "<class '__main__.Student'>\n",
      "林水忠\n",
      "96\n",
      "這是Student實體\n",
      "我的姓名是林水忠\n",
      "國文96\n",
      "英文100\n",
      "數學95\n",
      "\n"
     ]
    },
    {
     "data": {
      "text/plain": [
       "'\\n#下列指令執行時，會錯誤，因為設定property的只能讀不能寫(修改)\\n#設定值,attribuilt可讀可寫\\ns1.chinese = 100\\ns1.english = 100\\ns1.math=100\\nprint(s1)\\n'"
      ]
     },
     "execution_count": 33,
     "metadata": {},
     "output_type": "execute_result"
    }
   ],
   "source": [
    "#property 可讀不可寫\n",
    "#繼承\n",
    "#子程式若未建 __repr__時，則會執行父類別的__repr__\n",
    "\n",
    "class Person():\n",
    "    #定義的參數\"n\"\n",
    "    def __init__(self,n:str):   #自訂初始化\n",
    "        self.name = n   #建立attribute\n",
    "\n",
    "    def __repr__(self):\n",
    "        return f\"我是Persnon的實體,我的名字是{self.name}\"\n",
    "    \n",
    "class Student(Person):\n",
    "    def __init__(self,name:str,chinese:int,english:int,math:int):\n",
    "        super().__init__(name) #父類別\n",
    "        self.__chinese = chinese\n",
    "        self.__english = english\n",
    "        self.__math = math\n",
    "\n",
    "    @property\n",
    "    def chinese(self):\n",
    "        return self.__chinese\n",
    "    \n",
    "    @property\n",
    "    def english(self):\n",
    "        return self.__english\n",
    "    \n",
    "    @property\n",
    "    def math(self):\n",
    "        return self.__math\n",
    "\n",
    "    def __repr__(self):\n",
    "        message = \"\"\n",
    "        message += \"這是Student實體\\n\"\n",
    "        message += f\"我的姓名是{self.name}\\n\"\n",
    "        message += f\"國文{self.chinese}\\n\"\n",
    "        message += f\"英文{self.english}\\n\"\n",
    "        message += f\"數學{self.math}\\n\"\n",
    "        return message\n",
    "\n",
    "s1=Student(\"林水忠\",96,100,95)\n",
    "print(type(s1))\n",
    "print(s1.name)\n",
    "print(s1.chinese)\n",
    "print(s1)\n",
    "\n",
    "'''\n",
    "#下列指令執行時，會錯誤，因為設定property的只能讀不能寫(修改)\n",
    "#設定值,attribuilt可讀可寫\n",
    "s1.chinese = 100\n",
    "s1.english = 100\n",
    "s1.math=100\n",
    "print(s1)\n",
    "'''"
   ]
  },
  {
   "cell_type": "code",
   "execution_count": 37,
   "metadata": {},
   "outputs": [
    {
     "name": "stdout",
     "output_type": "stream",
     "text": [
      "<class '__main__.Student'>\n",
      "林水忠\n",
      "96\n",
      "總分:291\n",
      "平均:97\n",
      "平均:97.00\n",
      "這是Student實體\n",
      "我的姓名是林水忠\n",
      "國文96\n",
      "英文100\n",
      "數學95\n",
      "\n"
     ]
    }
   ],
   "source": [
    "#自訂函數method\n",
    "#繼承\n",
    "#子程式若未建 __repr__時，則會執行父類別的__repr__\n",
    "\n",
    "class Person():\n",
    "    #定義的參數\"n\"\n",
    "    def __init__(self,n:str):   #自訂初始化\n",
    "        self.name = n   #建立attribute\n",
    "\n",
    "    def __repr__(self):\n",
    "        return f\"我是Persnon的實體,我的名字是{self.name}\"\n",
    "    \n",
    "class Student(Person):\n",
    "    def __init__(self,name:str,chinese:int,english:int,math:int):\n",
    "        super().__init__(name) #父類別\n",
    "        self.__chinese = chinese\n",
    "        self.__english = english\n",
    "        self.__math = math\n",
    "\n",
    "    @property\n",
    "    def chinese(self):\n",
    "        return self.__chinese\n",
    "    \n",
    "    @property\n",
    "    def english(self):\n",
    "        return self.__english\n",
    "    \n",
    "    @property\n",
    "    def math(self):\n",
    "        return self.__math\n",
    "\n",
    "    def __repr__(self):\n",
    "        message = \"\"\n",
    "        message += \"這是Student實體\\n\"\n",
    "        message += f\"我的姓名是{self.name}\\n\"\n",
    "        message += f\"國文{self.chinese}\\n\"\n",
    "        message += f\"英文{self.english}\\n\"\n",
    "        message += f\"數學{self.math}\\n\"\n",
    "        return message\n",
    "    \n",
    "    def sum(self)->int:\n",
    "        return self.chinese + self.english + self.math\n",
    "    \n",
    "    def average(self)->float:\n",
    "        return self.sum() / 3\n",
    "s1=Student(\"林水忠\",96,100,95)\n",
    "print(type(s1))\n",
    "print(s1.name)\n",
    "print(s1.chinese)\n",
    "print(f\"總分:{s1.sum()}\")\n",
    "print(f\"平均:{round(s1.average())}\")\n",
    "print(s1)\n",
    "\n"
   ]
  },
  {
   "cell_type": "code",
   "execution_count": null,
   "metadata": {},
   "outputs": [],
   "source": []
  }
 ],
 "metadata": {
  "kernelspec": {
   "display_name": "Python 3",
   "language": "python",
   "name": "python3"
  },
  "language_info": {
   "codemirror_mode": {
    "name": "ipython",
    "version": 3
   },
   "file_extension": ".py",
   "mimetype": "text/x-python",
   "name": "python",
   "nbconvert_exporter": "python",
   "pygments_lexer": "ipython3",
   "version": "3.10.14"
  }
 },
 "nbformat": 4,
 "nbformat_minor": 2
}
