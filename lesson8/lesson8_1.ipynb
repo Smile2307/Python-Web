{
 "cells": [
  {
   "cell_type": "code",
   "execution_count": 1,
   "metadata": {},
   "outputs": [],
   "source": [
    "class Person():\n",
    "    def __init__(self,n):   #自訂初始化\n",
    "        self.name = n   #建立attribute\n",
    "\n",
    "    def __repr__(self):\n",
    "        return \"我是Persnon的實體\""
   ]
  },
  {
   "cell_type": "code",
   "execution_count": 3,
   "metadata": {},
   "outputs": [
    {
     "name": "stdout",
     "output_type": "stream",
     "text": [
      "林水忠\n",
      "我是Persnon的實體\n"
     ]
    }
   ],
   "source": [
    "p1 = Person(\"林水忠\")\n",
    "print(p1.name)\n",
    "print(p1)"
   ]
  }
 ],
 "metadata": {
  "kernelspec": {
   "display_name": "Python 3",
   "language": "python",
   "name": "python3"
  },
  "language_info": {
   "codemirror_mode": {
    "name": "ipython",
    "version": 3
   },
   "file_extension": ".py",
   "mimetype": "text/x-python",
   "name": "python",
   "nbconvert_exporter": "python",
   "pygments_lexer": "ipython3",
   "version": "3.10.14"
  }
 },
 "nbformat": 4,
 "nbformat_minor": 2
}
